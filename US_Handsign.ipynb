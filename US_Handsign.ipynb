{
  "nbformat": 4,
  "nbformat_minor": 0,
  "metadata": {
    "colab": {
      "name": "US Handsign",
      "provenance": [],
      "collapsed_sections": []
    },
    "kernelspec": {
      "name": "python3",
      "display_name": "Python 3"
    },
    "language_info": {
      "name": "python"
    },
    "accelerator": "GPU"
  },
  "cells": [
    {
      "cell_type": "code",
      "metadata": {
        "colab": {
          "base_uri": "https://localhost:8080/"
        },
        "id": "EeOxbQuf7TCE",
        "outputId": "54d940c5-aa2d-4d5a-87af-e8e6a4229901"
      },
      "source": [
        "!pip install tensorflow-gpu"
      ],
      "execution_count": null,
      "outputs": [
        {
          "output_type": "stream",
          "name": "stdout",
          "text": [
            "Collecting tensorflow-gpu\n",
            "  Downloading tensorflow_gpu-2.6.0-cp37-cp37m-manylinux2010_x86_64.whl (458.3 MB)\n",
            "\u001b[K     |████████████████████████████████| 458.3 MB 13 kB/s \n",
            "\u001b[?25hRequirement already satisfied: numpy~=1.19.2 in /usr/local/lib/python3.7/dist-packages (from tensorflow-gpu) (1.19.5)\n",
            "Requirement already satisfied: termcolor~=1.1.0 in /usr/local/lib/python3.7/dist-packages (from tensorflow-gpu) (1.1.0)\n",
            "Requirement already satisfied: typing-extensions~=3.7.4 in /usr/local/lib/python3.7/dist-packages (from tensorflow-gpu) (3.7.4.3)\n",
            "Requirement already satisfied: opt-einsum~=3.3.0 in /usr/local/lib/python3.7/dist-packages (from tensorflow-gpu) (3.3.0)\n",
            "Requirement already satisfied: gast==0.4.0 in /usr/local/lib/python3.7/dist-packages (from tensorflow-gpu) (0.4.0)\n",
            "Requirement already satisfied: protobuf>=3.9.2 in /usr/local/lib/python3.7/dist-packages (from tensorflow-gpu) (3.17.3)\n",
            "Requirement already satisfied: keras-preprocessing~=1.1.2 in /usr/local/lib/python3.7/dist-packages (from tensorflow-gpu) (1.1.2)\n",
            "Requirement already satisfied: clang~=5.0 in /usr/local/lib/python3.7/dist-packages (from tensorflow-gpu) (5.0)\n",
            "Requirement already satisfied: wheel~=0.35 in /usr/local/lib/python3.7/dist-packages (from tensorflow-gpu) (0.37.0)\n",
            "Requirement already satisfied: h5py~=3.1.0 in /usr/local/lib/python3.7/dist-packages (from tensorflow-gpu) (3.1.0)\n",
            "Requirement already satisfied: keras~=2.6 in /usr/local/lib/python3.7/dist-packages (from tensorflow-gpu) (2.6.0)\n",
            "Requirement already satisfied: astunparse~=1.6.3 in /usr/local/lib/python3.7/dist-packages (from tensorflow-gpu) (1.6.3)\n",
            "Requirement already satisfied: tensorboard~=2.6 in /usr/local/lib/python3.7/dist-packages (from tensorflow-gpu) (2.6.0)\n",
            "Requirement already satisfied: flatbuffers~=1.12.0 in /usr/local/lib/python3.7/dist-packages (from tensorflow-gpu) (1.12)\n",
            "Requirement already satisfied: grpcio<2.0,>=1.37.0 in /usr/local/lib/python3.7/dist-packages (from tensorflow-gpu) (1.40.0)\n",
            "Requirement already satisfied: tensorflow-estimator~=2.6 in /usr/local/lib/python3.7/dist-packages (from tensorflow-gpu) (2.6.0)\n",
            "Requirement already satisfied: wrapt~=1.12.1 in /usr/local/lib/python3.7/dist-packages (from tensorflow-gpu) (1.12.1)\n",
            "Requirement already satisfied: six~=1.15.0 in /usr/local/lib/python3.7/dist-packages (from tensorflow-gpu) (1.15.0)\n",
            "Requirement already satisfied: google-pasta~=0.2 in /usr/local/lib/python3.7/dist-packages (from tensorflow-gpu) (0.2.0)\n",
            "Requirement already satisfied: absl-py~=0.10 in /usr/local/lib/python3.7/dist-packages (from tensorflow-gpu) (0.12.0)\n",
            "Requirement already satisfied: cached-property in /usr/local/lib/python3.7/dist-packages (from h5py~=3.1.0->tensorflow-gpu) (1.5.2)\n",
            "Requirement already satisfied: google-auth-oauthlib<0.5,>=0.4.1 in /usr/local/lib/python3.7/dist-packages (from tensorboard~=2.6->tensorflow-gpu) (0.4.6)\n",
            "Requirement already satisfied: google-auth<2,>=1.6.3 in /usr/local/lib/python3.7/dist-packages (from tensorboard~=2.6->tensorflow-gpu) (1.35.0)\n",
            "Requirement already satisfied: markdown>=2.6.8 in /usr/local/lib/python3.7/dist-packages (from tensorboard~=2.6->tensorflow-gpu) (3.3.4)\n",
            "Requirement already satisfied: tensorboard-data-server<0.7.0,>=0.6.0 in /usr/local/lib/python3.7/dist-packages (from tensorboard~=2.6->tensorflow-gpu) (0.6.1)\n",
            "Requirement already satisfied: werkzeug>=0.11.15 in /usr/local/lib/python3.7/dist-packages (from tensorboard~=2.6->tensorflow-gpu) (1.0.1)\n",
            "Requirement already satisfied: requests<3,>=2.21.0 in /usr/local/lib/python3.7/dist-packages (from tensorboard~=2.6->tensorflow-gpu) (2.23.0)\n",
            "Requirement already satisfied: tensorboard-plugin-wit>=1.6.0 in /usr/local/lib/python3.7/dist-packages (from tensorboard~=2.6->tensorflow-gpu) (1.8.0)\n",
            "Requirement already satisfied: setuptools>=41.0.0 in /usr/local/lib/python3.7/dist-packages (from tensorboard~=2.6->tensorflow-gpu) (57.4.0)\n",
            "Requirement already satisfied: cachetools<5.0,>=2.0.0 in /usr/local/lib/python3.7/dist-packages (from google-auth<2,>=1.6.3->tensorboard~=2.6->tensorflow-gpu) (4.2.2)\n",
            "Requirement already satisfied: pyasn1-modules>=0.2.1 in /usr/local/lib/python3.7/dist-packages (from google-auth<2,>=1.6.3->tensorboard~=2.6->tensorflow-gpu) (0.2.8)\n",
            "Requirement already satisfied: rsa<5,>=3.1.4 in /usr/local/lib/python3.7/dist-packages (from google-auth<2,>=1.6.3->tensorboard~=2.6->tensorflow-gpu) (4.7.2)\n",
            "Requirement already satisfied: requests-oauthlib>=0.7.0 in /usr/local/lib/python3.7/dist-packages (from google-auth-oauthlib<0.5,>=0.4.1->tensorboard~=2.6->tensorflow-gpu) (1.3.0)\n",
            "Requirement already satisfied: importlib-metadata in /usr/local/lib/python3.7/dist-packages (from markdown>=2.6.8->tensorboard~=2.6->tensorflow-gpu) (4.8.1)\n",
            "Requirement already satisfied: pyasn1<0.5.0,>=0.4.6 in /usr/local/lib/python3.7/dist-packages (from pyasn1-modules>=0.2.1->google-auth<2,>=1.6.3->tensorboard~=2.6->tensorflow-gpu) (0.4.8)\n",
            "Requirement already satisfied: idna<3,>=2.5 in /usr/local/lib/python3.7/dist-packages (from requests<3,>=2.21.0->tensorboard~=2.6->tensorflow-gpu) (2.10)\n",
            "Requirement already satisfied: chardet<4,>=3.0.2 in /usr/local/lib/python3.7/dist-packages (from requests<3,>=2.21.0->tensorboard~=2.6->tensorflow-gpu) (3.0.4)\n",
            "Requirement already satisfied: certifi>=2017.4.17 in /usr/local/lib/python3.7/dist-packages (from requests<3,>=2.21.0->tensorboard~=2.6->tensorflow-gpu) (2021.5.30)\n",
            "Requirement already satisfied: urllib3!=1.25.0,!=1.25.1,<1.26,>=1.21.1 in /usr/local/lib/python3.7/dist-packages (from requests<3,>=2.21.0->tensorboard~=2.6->tensorflow-gpu) (1.24.3)\n",
            "Requirement already satisfied: oauthlib>=3.0.0 in /usr/local/lib/python3.7/dist-packages (from requests-oauthlib>=0.7.0->google-auth-oauthlib<0.5,>=0.4.1->tensorboard~=2.6->tensorflow-gpu) (3.1.1)\n",
            "Requirement already satisfied: zipp>=0.5 in /usr/local/lib/python3.7/dist-packages (from importlib-metadata->markdown>=2.6.8->tensorboard~=2.6->tensorflow-gpu) (3.5.0)\n",
            "Installing collected packages: tensorflow-gpu\n",
            "Successfully installed tensorflow-gpu-2.6.0\n"
          ]
        }
      ]
    },
    {
      "cell_type": "code",
      "metadata": {
        "colab": {
          "base_uri": "https://localhost:8080/"
        },
        "id": "hut2wIO07ygN",
        "outputId": "1adbf837-653d-437f-d789-b20aac039cf5"
      },
      "source": [
        "from google.colab import drive\n",
        "drive.mount('/gdrive')"
      ],
      "execution_count": 1,
      "outputs": [
        {
          "output_type": "stream",
          "name": "stdout",
          "text": [
            "Mounted at /gdrive\n"
          ]
        }
      ]
    },
    {
      "cell_type": "code",
      "metadata": {
        "id": "X8WlP_j_76ic"
      },
      "source": [
        "import tensorflow as tf\n",
        "import cv2\n",
        "import matplotlib.pyplot as plt\n",
        "from tensorflow.keras.layers import *\n",
        "from tensorflow.keras.preprocessing.image import ImageDataGenerator\n",
        "%matplotlib inline\n",
        "import os\n",
        "from tensorflow.keras import Sequential\n",
        "os.environ['TF_FORCE_GPU_ALLOW_GROWTH'] = 'true'"
      ],
      "execution_count": 2,
      "outputs": []
    },
    {
      "cell_type": "code",
      "metadata": {
        "id": "BDXgb7u5Cmw1"
      },
      "source": [
        "gpus = tf.config.experimental.list_physical_devices('GPU')\n",
        "if gpus:\n",
        "    try:\n",
        "        for gpu in gpus:\n",
        "            tf.config.experimental.set_memory_growth(gpu, True)\n",
        "\n",
        "    except RuntimeError as e:\n",
        "        print(e)"
      ],
      "execution_count": 3,
      "outputs": []
    },
    {
      "cell_type": "code",
      "metadata": {
        "id": "YC1uSsm3EP4d"
      },
      "source": [
        "from tensorflow.compat.v1 import ConfigProto\n",
        "from tensorflow.compat.v1 import InteractiveSession\n",
        "\n",
        "config = ConfigProto()\n",
        "config.gpu_options.allow_growth = True\n",
        "session = InteractiveSession(config=config)"
      ],
      "execution_count": 4,
      "outputs": []
    },
    {
      "cell_type": "code",
      "metadata": {
        "colab": {
          "base_uri": "https://localhost:8080/"
        },
        "id": "sIlc3G-QD3cX",
        "outputId": "dd6e88a9-0970-48d7-8080-f6d5341646d9"
      },
      "source": [
        "print(tf.__version__)"
      ],
      "execution_count": 5,
      "outputs": [
        {
          "output_type": "stream",
          "name": "stdout",
          "text": [
            "2.6.0\n"
          ]
        }
      ]
    },
    {
      "cell_type": "code",
      "metadata": {
        "id": "9CewG8Ve7-RE"
      },
      "source": [
        "url_train = '/gdrive/My Drive/Computer_Vision/US_Handsign/datatrain' \n",
        "urlPath = '/gdrive/My Drive/Computer_Vision/US_Handsign/'"
      ],
      "execution_count": 6,
      "outputs": []
    },
    {
      "cell_type": "code",
      "metadata": {
        "id": "FEmVtZCz8o6B"
      },
      "source": [
        "im_size = (256, 256)\n",
        "im_size2 = (256, 256, 3)"
      ],
      "execution_count": 7,
      "outputs": []
    },
    {
      "cell_type": "code",
      "metadata": {
        "colab": {
          "base_uri": "https://localhost:8080/"
        },
        "id": "RYLSRNts8tMX",
        "outputId": "0c0d15a3-67bd-4170-96a0-904bc71204e5"
      },
      "source": [
        "datagen = ImageDataGenerator(\n",
        "    rescale = 1./255,\n",
        "    width_shift_range = 0.2, \n",
        "    height_shift_range = 0.2,\n",
        "    zoom_range = 0.25\n",
        ")\n",
        "\n",
        "# Gvfet data from folder\n",
        "data_train = datagen.flow_from_directory(url_train,\n",
        "                                         target_size = im_size,\n",
        "                                         batch_size = 100,\n",
        "                                         class_mode = 'categorical'\n",
        "                                         )\n",
        "\n"
      ],
      "execution_count": 8,
      "outputs": [
        {
          "output_type": "stream",
          "name": "stdout",
          "text": [
            "Found 2515 images belonging to 36 classes.\n"
          ]
        }
      ]
    },
    {
      "cell_type": "code",
      "metadata": {
        "colab": {
          "base_uri": "https://localhost:8080/"
        },
        "id": "OBd1U1JE-qKA",
        "outputId": "1f2f8b27-dff6-48d6-e657-652b695004b7"
      },
      "source": [
        "data_train.class_indices"
      ],
      "execution_count": 9,
      "outputs": [
        {
          "output_type": "execute_result",
          "data": {
            "text/plain": [
              "{'0': 0,\n",
              " '1': 1,\n",
              " '2': 2,\n",
              " '3': 3,\n",
              " '4': 4,\n",
              " '5': 5,\n",
              " '6': 6,\n",
              " '7': 7,\n",
              " '8': 8,\n",
              " '9': 9,\n",
              " 'a': 10,\n",
              " 'b': 11,\n",
              " 'c': 12,\n",
              " 'd': 13,\n",
              " 'e': 14,\n",
              " 'f': 15,\n",
              " 'g': 16,\n",
              " 'h': 17,\n",
              " 'i': 18,\n",
              " 'j': 19,\n",
              " 'k': 20,\n",
              " 'l': 21,\n",
              " 'm': 22,\n",
              " 'n': 23,\n",
              " 'o': 24,\n",
              " 'p': 25,\n",
              " 'q': 26,\n",
              " 'r': 27,\n",
              " 's': 28,\n",
              " 't': 29,\n",
              " 'u': 30,\n",
              " 'v': 31,\n",
              " 'w': 32,\n",
              " 'x': 33,\n",
              " 'y': 34,\n",
              " 'z': 35}"
            ]
          },
          "metadata": {},
          "execution_count": 9
        }
      ]
    },
    {
      "cell_type": "code",
      "metadata": {
        "id": "o2rNJB0i86zA"
      },
      "source": [
        "model = Sequential([\n",
        "        Conv2D(32, 3, padding = 'same', activation = 'relu', input_shape = im_size2),\n",
        "        MaxPool2D(),                                            \n",
        "        Conv2D(64, 3, padding = 'same', activation = 'relu'),\n",
        "        MaxPool2D(),                                            \n",
        "        Conv2D(128, 5, padding = 'same', activation = 'relu'),\n",
        "        MaxPool2D(),\n",
        "        Conv2D(256, 5, padding = 'same', activation = 'relu'),\n",
        "        MaxPool2D(),\n",
        "        Conv2D(512, 5, padding = 'same', activation = 'relu'),\n",
        "        GlobalAveragePooling2D(),\n",
        "        Dense(512, activation='relu'),\n",
        "        Dropout(0.5),\n",
        "        Dense(data_train.num_classes, activation='softmax')\n",
        "])\n",
        "\n",
        "model.compile(loss='categorical_crossentropy', optimizer='adam', metrics=['accuracy'])"
      ],
      "execution_count": 10,
      "outputs": []
    },
    {
      "cell_type": "code",
      "metadata": {
        "colab": {
          "base_uri": "https://localhost:8080/"
        },
        "id": "uHUi3LPV92zn",
        "outputId": "cf7788f9-e05b-46c2-b0df-a9e055a0e5dd"
      },
      "source": [
        "model.summary()"
      ],
      "execution_count": 11,
      "outputs": [
        {
          "output_type": "stream",
          "name": "stdout",
          "text": [
            "Model: \"sequential\"\n",
            "_________________________________________________________________\n",
            "Layer (type)                 Output Shape              Param #   \n",
            "=================================================================\n",
            "conv2d (Conv2D)              (None, 256, 256, 32)      896       \n",
            "_________________________________________________________________\n",
            "max_pooling2d (MaxPooling2D) (None, 128, 128, 32)      0         \n",
            "_________________________________________________________________\n",
            "conv2d_1 (Conv2D)            (None, 128, 128, 64)      18496     \n",
            "_________________________________________________________________\n",
            "max_pooling2d_1 (MaxPooling2 (None, 64, 64, 64)        0         \n",
            "_________________________________________________________________\n",
            "conv2d_2 (Conv2D)            (None, 64, 64, 128)       204928    \n",
            "_________________________________________________________________\n",
            "max_pooling2d_2 (MaxPooling2 (None, 32, 32, 128)       0         \n",
            "_________________________________________________________________\n",
            "conv2d_3 (Conv2D)            (None, 32, 32, 256)       819456    \n",
            "_________________________________________________________________\n",
            "max_pooling2d_3 (MaxPooling2 (None, 16, 16, 256)       0         \n",
            "_________________________________________________________________\n",
            "conv2d_4 (Conv2D)            (None, 16, 16, 512)       3277312   \n",
            "_________________________________________________________________\n",
            "global_average_pooling2d (Gl (None, 512)               0         \n",
            "_________________________________________________________________\n",
            "dense (Dense)                (None, 512)               262656    \n",
            "_________________________________________________________________\n",
            "dropout (Dropout)            (None, 512)               0         \n",
            "_________________________________________________________________\n",
            "dense_1 (Dense)              (None, 36)                18468     \n",
            "=================================================================\n",
            "Total params: 4,602,212\n",
            "Trainable params: 4,602,212\n",
            "Non-trainable params: 0\n",
            "_________________________________________________________________\n"
          ]
        }
      ]
    },
    {
      "cell_type": "code",
      "metadata": {
        "id": "3Usg-uqj9gdz"
      },
      "source": [
        "checkpoint_path = urlPath+\"/checkpoints/cp.ckpt\"\n",
        "checkpoint_dir = os.path.dirname(checkpoint_path)\n",
        "\n",
        "# Create a callback that saves the model's weights\n",
        "cp_callback = tf.keras.callbacks.ModelCheckpoint(filepath=checkpoint_path,\n",
        "                                                 save_weights_only=True,\n",
        "                                                 verbose=1)"
      ],
      "execution_count": 12,
      "outputs": []
    },
    {
      "cell_type": "code",
      "metadata": {
        "colab": {
          "base_uri": "https://localhost:8080/"
        },
        "id": "NTPOdtAV9wZ3",
        "outputId": "dca96b2b-5c2d-42a2-d41f-975734408de2"
      },
      "source": [
        "history = model.fit(data_train, epochs = 100, callbacks=[cp_callback])"
      ],
      "execution_count": 13,
      "outputs": [
        {
          "output_type": "stream",
          "name": "stdout",
          "text": [
            "Epoch 1/100\n",
            "26/26 [==============================] - 1199s 44s/step - loss: 3.5858 - accuracy: 0.0211\n",
            "\n",
            "Epoch 00001: saving model to /gdrive/My Drive/Computer_Vision/US_Handsign//checkpoints/cp.ckpt\n",
            "Epoch 2/100\n",
            "26/26 [==============================] - 48s 2s/step - loss: 3.5802 - accuracy: 0.0338\n",
            "\n",
            "Epoch 00002: saving model to /gdrive/My Drive/Computer_Vision/US_Handsign//checkpoints/cp.ckpt\n",
            "Epoch 3/100\n",
            "26/26 [==============================] - 49s 2s/step - loss: 3.5240 - accuracy: 0.0457\n",
            "\n",
            "Epoch 00003: saving model to /gdrive/My Drive/Computer_Vision/US_Handsign//checkpoints/cp.ckpt\n",
            "Epoch 4/100\n",
            "26/26 [==============================] - 50s 2s/step - loss: 3.2376 - accuracy: 0.0640\n",
            "\n",
            "Epoch 00004: saving model to /gdrive/My Drive/Computer_Vision/US_Handsign//checkpoints/cp.ckpt\n",
            "Epoch 5/100\n",
            "26/26 [==============================] - 49s 2s/step - loss: 2.9703 - accuracy: 0.1153\n",
            "\n",
            "Epoch 00005: saving model to /gdrive/My Drive/Computer_Vision/US_Handsign//checkpoints/cp.ckpt\n",
            "Epoch 6/100\n",
            "26/26 [==============================] - 49s 2s/step - loss: 2.7046 - accuracy: 0.1734\n",
            "\n",
            "Epoch 00006: saving model to /gdrive/My Drive/Computer_Vision/US_Handsign//checkpoints/cp.ckpt\n",
            "Epoch 7/100\n",
            "26/26 [==============================] - 49s 2s/step - loss: 2.3124 - accuracy: 0.2437\n",
            "\n",
            "Epoch 00007: saving model to /gdrive/My Drive/Computer_Vision/US_Handsign//checkpoints/cp.ckpt\n",
            "Epoch 8/100\n",
            "26/26 [==============================] - 49s 2s/step - loss: 2.0078 - accuracy: 0.3344\n",
            "\n",
            "Epoch 00008: saving model to /gdrive/My Drive/Computer_Vision/US_Handsign//checkpoints/cp.ckpt\n",
            "Epoch 9/100\n",
            "26/26 [==============================] - 50s 2s/step - loss: 1.6415 - accuracy: 0.4366\n",
            "\n",
            "Epoch 00009: saving model to /gdrive/My Drive/Computer_Vision/US_Handsign//checkpoints/cp.ckpt\n",
            "Epoch 10/100\n",
            "26/26 [==============================] - 49s 2s/step - loss: 1.4078 - accuracy: 0.5030\n",
            "\n",
            "Epoch 00010: saving model to /gdrive/My Drive/Computer_Vision/US_Handsign//checkpoints/cp.ckpt\n",
            "Epoch 11/100\n",
            "26/26 [==============================] - 48s 2s/step - loss: 1.1808 - accuracy: 0.5857\n",
            "\n",
            "Epoch 00011: saving model to /gdrive/My Drive/Computer_Vision/US_Handsign//checkpoints/cp.ckpt\n",
            "Epoch 12/100\n",
            "26/26 [==============================] - 48s 2s/step - loss: 1.1018 - accuracy: 0.6119\n",
            "\n",
            "Epoch 00012: saving model to /gdrive/My Drive/Computer_Vision/US_Handsign//checkpoints/cp.ckpt\n",
            "Epoch 13/100\n",
            "26/26 [==============================] - 48s 2s/step - loss: 0.9417 - accuracy: 0.6588\n",
            "\n",
            "Epoch 00013: saving model to /gdrive/My Drive/Computer_Vision/US_Handsign//checkpoints/cp.ckpt\n",
            "Epoch 14/100\n",
            "26/26 [==============================] - 48s 2s/step - loss: 0.8602 - accuracy: 0.6799\n",
            "\n",
            "Epoch 00014: saving model to /gdrive/My Drive/Computer_Vision/US_Handsign//checkpoints/cp.ckpt\n",
            "Epoch 15/100\n",
            "26/26 [==============================] - 48s 2s/step - loss: 0.7993 - accuracy: 0.7145\n",
            "\n",
            "Epoch 00015: saving model to /gdrive/My Drive/Computer_Vision/US_Handsign//checkpoints/cp.ckpt\n",
            "Epoch 16/100\n",
            "26/26 [==============================] - 48s 2s/step - loss: 0.6561 - accuracy: 0.7511\n",
            "\n",
            "Epoch 00016: saving model to /gdrive/My Drive/Computer_Vision/US_Handsign//checkpoints/cp.ckpt\n",
            "Epoch 17/100\n",
            "26/26 [==============================] - 48s 2s/step - loss: 0.5668 - accuracy: 0.7913\n",
            "\n",
            "Epoch 00017: saving model to /gdrive/My Drive/Computer_Vision/US_Handsign//checkpoints/cp.ckpt\n",
            "Epoch 18/100\n",
            "26/26 [==============================] - 48s 2s/step - loss: 0.6468 - accuracy: 0.7630\n",
            "\n",
            "Epoch 00018: saving model to /gdrive/My Drive/Computer_Vision/US_Handsign//checkpoints/cp.ckpt\n",
            "Epoch 19/100\n",
            "26/26 [==============================] - 48s 2s/step - loss: 0.5515 - accuracy: 0.7889\n",
            "\n",
            "Epoch 00019: saving model to /gdrive/My Drive/Computer_Vision/US_Handsign//checkpoints/cp.ckpt\n",
            "Epoch 20/100\n",
            "26/26 [==============================] - 48s 2s/step - loss: 0.4583 - accuracy: 0.8282\n",
            "\n",
            "Epoch 00020: saving model to /gdrive/My Drive/Computer_Vision/US_Handsign//checkpoints/cp.ckpt\n",
            "Epoch 21/100\n",
            "26/26 [==============================] - 49s 2s/step - loss: 0.4305 - accuracy: 0.8294\n",
            "\n",
            "Epoch 00021: saving model to /gdrive/My Drive/Computer_Vision/US_Handsign//checkpoints/cp.ckpt\n",
            "Epoch 22/100\n",
            "26/26 [==============================] - 49s 2s/step - loss: 0.3920 - accuracy: 0.8461\n",
            "\n",
            "Epoch 00022: saving model to /gdrive/My Drive/Computer_Vision/US_Handsign//checkpoints/cp.ckpt\n",
            "Epoch 23/100\n",
            "26/26 [==============================] - 49s 2s/step - loss: 0.3908 - accuracy: 0.8565\n",
            "\n",
            "Epoch 00023: saving model to /gdrive/My Drive/Computer_Vision/US_Handsign//checkpoints/cp.ckpt\n",
            "Epoch 24/100\n",
            "26/26 [==============================] - 49s 2s/step - loss: 0.3169 - accuracy: 0.8759\n",
            "\n",
            "Epoch 00024: saving model to /gdrive/My Drive/Computer_Vision/US_Handsign//checkpoints/cp.ckpt\n",
            "Epoch 25/100\n",
            "26/26 [==============================] - 49s 2s/step - loss: 0.3118 - accuracy: 0.8779\n",
            "\n",
            "Epoch 00025: saving model to /gdrive/My Drive/Computer_Vision/US_Handsign//checkpoints/cp.ckpt\n",
            "Epoch 26/100\n",
            "26/26 [==============================] - 49s 2s/step - loss: 0.3085 - accuracy: 0.8799\n",
            "\n",
            "Epoch 00026: saving model to /gdrive/My Drive/Computer_Vision/US_Handsign//checkpoints/cp.ckpt\n",
            "Epoch 27/100\n",
            "26/26 [==============================] - 49s 2s/step - loss: 0.3054 - accuracy: 0.8740\n",
            "\n",
            "Epoch 00027: saving model to /gdrive/My Drive/Computer_Vision/US_Handsign//checkpoints/cp.ckpt\n",
            "Epoch 28/100\n",
            "26/26 [==============================] - 49s 2s/step - loss: 0.2871 - accuracy: 0.8887\n",
            "\n",
            "Epoch 00028: saving model to /gdrive/My Drive/Computer_Vision/US_Handsign//checkpoints/cp.ckpt\n",
            "Epoch 29/100\n",
            "26/26 [==============================] - 49s 2s/step - loss: 0.2881 - accuracy: 0.8879\n",
            "\n",
            "Epoch 00029: saving model to /gdrive/My Drive/Computer_Vision/US_Handsign//checkpoints/cp.ckpt\n",
            "Epoch 30/100\n",
            "26/26 [==============================] - 50s 2s/step - loss: 0.2595 - accuracy: 0.8990\n",
            "\n",
            "Epoch 00030: saving model to /gdrive/My Drive/Computer_Vision/US_Handsign//checkpoints/cp.ckpt\n",
            "Epoch 31/100\n",
            "26/26 [==============================] - 49s 2s/step - loss: 0.2217 - accuracy: 0.9161\n",
            "\n",
            "Epoch 00031: saving model to /gdrive/My Drive/Computer_Vision/US_Handsign//checkpoints/cp.ckpt\n",
            "Epoch 32/100\n",
            "26/26 [==============================] - 49s 2s/step - loss: 0.2295 - accuracy: 0.9050\n",
            "\n",
            "Epoch 00032: saving model to /gdrive/My Drive/Computer_Vision/US_Handsign//checkpoints/cp.ckpt\n",
            "Epoch 33/100\n",
            "26/26 [==============================] - 49s 2s/step - loss: 0.2237 - accuracy: 0.9201\n",
            "\n",
            "Epoch 00033: saving model to /gdrive/My Drive/Computer_Vision/US_Handsign//checkpoints/cp.ckpt\n",
            "Epoch 34/100\n",
            "26/26 [==============================] - 49s 2s/step - loss: 0.2553 - accuracy: 0.8978\n",
            "\n",
            "Epoch 00034: saving model to /gdrive/My Drive/Computer_Vision/US_Handsign//checkpoints/cp.ckpt\n",
            "Epoch 35/100\n",
            "26/26 [==============================] - 49s 2s/step - loss: 0.2368 - accuracy: 0.9189\n",
            "\n",
            "Epoch 00035: saving model to /gdrive/My Drive/Computer_Vision/US_Handsign//checkpoints/cp.ckpt\n",
            "Epoch 36/100\n",
            "26/26 [==============================] - 49s 2s/step - loss: 0.1956 - accuracy: 0.9316\n",
            "\n",
            "Epoch 00036: saving model to /gdrive/My Drive/Computer_Vision/US_Handsign//checkpoints/cp.ckpt\n",
            "Epoch 37/100\n",
            "26/26 [==============================] - 49s 2s/step - loss: 0.1915 - accuracy: 0.9245\n",
            "\n",
            "Epoch 00037: saving model to /gdrive/My Drive/Computer_Vision/US_Handsign//checkpoints/cp.ckpt\n",
            "Epoch 38/100\n",
            "26/26 [==============================] - 48s 2s/step - loss: 0.1878 - accuracy: 0.9264\n",
            "\n",
            "Epoch 00038: saving model to /gdrive/My Drive/Computer_Vision/US_Handsign//checkpoints/cp.ckpt\n",
            "Epoch 39/100\n",
            "26/26 [==============================] - 48s 2s/step - loss: 0.1686 - accuracy: 0.9328\n",
            "\n",
            "Epoch 00039: saving model to /gdrive/My Drive/Computer_Vision/US_Handsign//checkpoints/cp.ckpt\n",
            "Epoch 40/100\n",
            "26/26 [==============================] - 48s 2s/step - loss: 0.1669 - accuracy: 0.9412\n",
            "\n",
            "Epoch 00040: saving model to /gdrive/My Drive/Computer_Vision/US_Handsign//checkpoints/cp.ckpt\n",
            "Epoch 41/100\n",
            "26/26 [==============================] - 49s 2s/step - loss: 0.1605 - accuracy: 0.9416\n",
            "\n",
            "Epoch 00041: saving model to /gdrive/My Drive/Computer_Vision/US_Handsign//checkpoints/cp.ckpt\n",
            "Epoch 42/100\n",
            "26/26 [==============================] - 48s 2s/step - loss: 0.1409 - accuracy: 0.9447\n",
            "\n",
            "Epoch 00042: saving model to /gdrive/My Drive/Computer_Vision/US_Handsign//checkpoints/cp.ckpt\n",
            "Epoch 43/100\n",
            "26/26 [==============================] - 48s 2s/step - loss: 0.1463 - accuracy: 0.9467\n",
            "\n",
            "Epoch 00043: saving model to /gdrive/My Drive/Computer_Vision/US_Handsign//checkpoints/cp.ckpt\n",
            "Epoch 44/100\n",
            "26/26 [==============================] - 48s 2s/step - loss: 0.1455 - accuracy: 0.9475\n",
            "\n",
            "Epoch 00044: saving model to /gdrive/My Drive/Computer_Vision/US_Handsign//checkpoints/cp.ckpt\n",
            "Epoch 45/100\n",
            "26/26 [==============================] - 49s 2s/step - loss: 0.1316 - accuracy: 0.9475\n",
            "\n",
            "Epoch 00045: saving model to /gdrive/My Drive/Computer_Vision/US_Handsign//checkpoints/cp.ckpt\n",
            "Epoch 46/100\n",
            "26/26 [==============================] - 48s 2s/step - loss: 0.1318 - accuracy: 0.9475\n",
            "\n",
            "Epoch 00046: saving model to /gdrive/My Drive/Computer_Vision/US_Handsign//checkpoints/cp.ckpt\n",
            "Epoch 47/100\n",
            "26/26 [==============================] - 49s 2s/step - loss: 0.1330 - accuracy: 0.9511\n",
            "\n",
            "Epoch 00047: saving model to /gdrive/My Drive/Computer_Vision/US_Handsign//checkpoints/cp.ckpt\n",
            "Epoch 48/100\n",
            "26/26 [==============================] - 49s 2s/step - loss: 0.1443 - accuracy: 0.9435\n",
            "\n",
            "Epoch 00048: saving model to /gdrive/My Drive/Computer_Vision/US_Handsign//checkpoints/cp.ckpt\n",
            "Epoch 49/100\n",
            "26/26 [==============================] - 49s 2s/step - loss: 0.1347 - accuracy: 0.9483\n",
            "\n",
            "Epoch 00049: saving model to /gdrive/My Drive/Computer_Vision/US_Handsign//checkpoints/cp.ckpt\n",
            "Epoch 50/100\n",
            "26/26 [==============================] - 49s 2s/step - loss: 0.1297 - accuracy: 0.9531\n",
            "\n",
            "Epoch 00050: saving model to /gdrive/My Drive/Computer_Vision/US_Handsign//checkpoints/cp.ckpt\n",
            "Epoch 51/100\n",
            "26/26 [==============================] - 49s 2s/step - loss: 0.1215 - accuracy: 0.9551\n",
            "\n",
            "Epoch 00051: saving model to /gdrive/My Drive/Computer_Vision/US_Handsign//checkpoints/cp.ckpt\n",
            "Epoch 52/100\n",
            "26/26 [==============================] - 49s 2s/step - loss: 0.1069 - accuracy: 0.9555\n",
            "\n",
            "Epoch 00052: saving model to /gdrive/My Drive/Computer_Vision/US_Handsign//checkpoints/cp.ckpt\n",
            "Epoch 53/100\n",
            "26/26 [==============================] - 48s 2s/step - loss: 0.1088 - accuracy: 0.9630\n",
            "\n",
            "Epoch 00053: saving model to /gdrive/My Drive/Computer_Vision/US_Handsign//checkpoints/cp.ckpt\n",
            "Epoch 54/100\n",
            "26/26 [==============================] - 49s 2s/step - loss: 0.0958 - accuracy: 0.9654\n",
            "\n",
            "Epoch 00054: saving model to /gdrive/My Drive/Computer_Vision/US_Handsign//checkpoints/cp.ckpt\n",
            "Epoch 55/100\n",
            "26/26 [==============================] - 49s 2s/step - loss: 0.1098 - accuracy: 0.9590\n",
            "\n",
            "Epoch 00055: saving model to /gdrive/My Drive/Computer_Vision/US_Handsign//checkpoints/cp.ckpt\n",
            "Epoch 56/100\n",
            "26/26 [==============================] - 49s 2s/step - loss: 0.1600 - accuracy: 0.9459\n",
            "\n",
            "Epoch 00056: saving model to /gdrive/My Drive/Computer_Vision/US_Handsign//checkpoints/cp.ckpt\n",
            "Epoch 57/100\n",
            "26/26 [==============================] - 49s 2s/step - loss: 0.1031 - accuracy: 0.9630\n",
            "\n",
            "Epoch 00057: saving model to /gdrive/My Drive/Computer_Vision/US_Handsign//checkpoints/cp.ckpt\n",
            "Epoch 58/100\n",
            "26/26 [==============================] - 49s 2s/step - loss: 0.0905 - accuracy: 0.9694\n",
            "\n",
            "Epoch 00058: saving model to /gdrive/My Drive/Computer_Vision/US_Handsign//checkpoints/cp.ckpt\n",
            "Epoch 59/100\n",
            "26/26 [==============================] - 49s 2s/step - loss: 0.1044 - accuracy: 0.9626\n",
            "\n",
            "Epoch 00059: saving model to /gdrive/My Drive/Computer_Vision/US_Handsign//checkpoints/cp.ckpt\n",
            "Epoch 60/100\n",
            "26/26 [==============================] - 49s 2s/step - loss: 0.1213 - accuracy: 0.9602\n",
            "\n",
            "Epoch 00060: saving model to /gdrive/My Drive/Computer_Vision/US_Handsign//checkpoints/cp.ckpt\n",
            "Epoch 61/100\n",
            "26/26 [==============================] - 49s 2s/step - loss: 0.0866 - accuracy: 0.9718\n",
            "\n",
            "Epoch 00061: saving model to /gdrive/My Drive/Computer_Vision/US_Handsign//checkpoints/cp.ckpt\n",
            "Epoch 62/100\n",
            "26/26 [==============================] - 49s 2s/step - loss: 0.1074 - accuracy: 0.9610\n",
            "\n",
            "Epoch 00062: saving model to /gdrive/My Drive/Computer_Vision/US_Handsign//checkpoints/cp.ckpt\n",
            "Epoch 63/100\n",
            "26/26 [==============================] - 49s 2s/step - loss: 0.1128 - accuracy: 0.9606\n",
            "\n",
            "Epoch 00063: saving model to /gdrive/My Drive/Computer_Vision/US_Handsign//checkpoints/cp.ckpt\n",
            "Epoch 64/100\n",
            "26/26 [==============================] - 49s 2s/step - loss: 0.1762 - accuracy: 0.9340\n",
            "\n",
            "Epoch 00064: saving model to /gdrive/My Drive/Computer_Vision/US_Handsign//checkpoints/cp.ckpt\n",
            "Epoch 65/100\n",
            "26/26 [==============================] - 48s 2s/step - loss: 0.1202 - accuracy: 0.9535\n",
            "\n",
            "Epoch 00065: saving model to /gdrive/My Drive/Computer_Vision/US_Handsign//checkpoints/cp.ckpt\n",
            "Epoch 66/100\n",
            "26/26 [==============================] - 49s 2s/step - loss: 0.0779 - accuracy: 0.9706\n",
            "\n",
            "Epoch 00066: saving model to /gdrive/My Drive/Computer_Vision/US_Handsign//checkpoints/cp.ckpt\n",
            "Epoch 67/100\n",
            "26/26 [==============================] - 50s 2s/step - loss: 0.0853 - accuracy: 0.9690\n",
            "\n",
            "Epoch 00067: saving model to /gdrive/My Drive/Computer_Vision/US_Handsign//checkpoints/cp.ckpt\n",
            "Epoch 68/100\n",
            "26/26 [==============================] - 49s 2s/step - loss: 0.0695 - accuracy: 0.9746\n",
            "\n",
            "Epoch 00068: saving model to /gdrive/My Drive/Computer_Vision/US_Handsign//checkpoints/cp.ckpt\n",
            "Epoch 69/100\n",
            "26/26 [==============================] - 49s 2s/step - loss: 0.0807 - accuracy: 0.9678\n",
            "\n",
            "Epoch 00069: saving model to /gdrive/My Drive/Computer_Vision/US_Handsign//checkpoints/cp.ckpt\n",
            "Epoch 70/100\n",
            "26/26 [==============================] - 49s 2s/step - loss: 0.0831 - accuracy: 0.9678\n",
            "\n",
            "Epoch 00070: saving model to /gdrive/My Drive/Computer_Vision/US_Handsign//checkpoints/cp.ckpt\n",
            "Epoch 71/100\n",
            "26/26 [==============================] - 50s 2s/step - loss: 0.0835 - accuracy: 0.9722\n",
            "\n",
            "Epoch 00071: saving model to /gdrive/My Drive/Computer_Vision/US_Handsign//checkpoints/cp.ckpt\n",
            "Epoch 72/100\n",
            "26/26 [==============================] - 50s 2s/step - loss: 0.0898 - accuracy: 0.9686\n",
            "\n",
            "Epoch 00072: saving model to /gdrive/My Drive/Computer_Vision/US_Handsign//checkpoints/cp.ckpt\n",
            "Epoch 73/100\n",
            "26/26 [==============================] - 50s 2s/step - loss: 0.0829 - accuracy: 0.9706\n",
            "\n",
            "Epoch 00073: saving model to /gdrive/My Drive/Computer_Vision/US_Handsign//checkpoints/cp.ckpt\n",
            "Epoch 74/100\n",
            "26/26 [==============================] - 50s 2s/step - loss: 0.0659 - accuracy: 0.9777\n",
            "\n",
            "Epoch 00074: saving model to /gdrive/My Drive/Computer_Vision/US_Handsign//checkpoints/cp.ckpt\n",
            "Epoch 75/100\n",
            "26/26 [==============================] - 50s 2s/step - loss: 0.0622 - accuracy: 0.9817\n",
            "\n",
            "Epoch 00075: saving model to /gdrive/My Drive/Computer_Vision/US_Handsign//checkpoints/cp.ckpt\n",
            "Epoch 76/100\n",
            "26/26 [==============================] - 50s 2s/step - loss: 0.0570 - accuracy: 0.9765\n",
            "\n",
            "Epoch 00076: saving model to /gdrive/My Drive/Computer_Vision/US_Handsign//checkpoints/cp.ckpt\n",
            "Epoch 77/100\n",
            "26/26 [==============================] - 50s 2s/step - loss: 0.0866 - accuracy: 0.9722\n",
            "\n",
            "Epoch 00077: saving model to /gdrive/My Drive/Computer_Vision/US_Handsign//checkpoints/cp.ckpt\n",
            "Epoch 78/100\n",
            "26/26 [==============================] - 50s 2s/step - loss: 0.0697 - accuracy: 0.9757\n",
            "\n",
            "Epoch 00078: saving model to /gdrive/My Drive/Computer_Vision/US_Handsign//checkpoints/cp.ckpt\n",
            "Epoch 79/100\n",
            "26/26 [==============================] - 50s 2s/step - loss: 0.0465 - accuracy: 0.9845\n",
            "\n",
            "Epoch 00079: saving model to /gdrive/My Drive/Computer_Vision/US_Handsign//checkpoints/cp.ckpt\n",
            "Epoch 80/100\n",
            "26/26 [==============================] - 49s 2s/step - loss: 0.0614 - accuracy: 0.9789\n",
            "\n",
            "Epoch 00080: saving model to /gdrive/My Drive/Computer_Vision/US_Handsign//checkpoints/cp.ckpt\n",
            "Epoch 81/100\n",
            "26/26 [==============================] - 49s 2s/step - loss: 0.0671 - accuracy: 0.9746\n",
            "\n",
            "Epoch 00081: saving model to /gdrive/My Drive/Computer_Vision/US_Handsign//checkpoints/cp.ckpt\n",
            "Epoch 82/100\n",
            "26/26 [==============================] - 49s 2s/step - loss: 0.0542 - accuracy: 0.9785\n",
            "\n",
            "Epoch 00082: saving model to /gdrive/My Drive/Computer_Vision/US_Handsign//checkpoints/cp.ckpt\n",
            "Epoch 83/100\n",
            "26/26 [==============================] - 49s 2s/step - loss: 0.0506 - accuracy: 0.9841\n",
            "\n",
            "Epoch 00083: saving model to /gdrive/My Drive/Computer_Vision/US_Handsign//checkpoints/cp.ckpt\n",
            "Epoch 84/100\n",
            "26/26 [==============================] - 50s 2s/step - loss: 0.0483 - accuracy: 0.9821\n",
            "\n",
            "Epoch 00084: saving model to /gdrive/My Drive/Computer_Vision/US_Handsign//checkpoints/cp.ckpt\n",
            "Epoch 85/100\n",
            "26/26 [==============================] - 50s 2s/step - loss: 0.0553 - accuracy: 0.9793\n",
            "\n",
            "Epoch 00085: saving model to /gdrive/My Drive/Computer_Vision/US_Handsign//checkpoints/cp.ckpt\n",
            "Epoch 86/100\n",
            "26/26 [==============================] - 50s 2s/step - loss: 0.0746 - accuracy: 0.9710\n",
            "\n",
            "Epoch 00086: saving model to /gdrive/My Drive/Computer_Vision/US_Handsign//checkpoints/cp.ckpt\n",
            "Epoch 87/100\n",
            "26/26 [==============================] - 50s 2s/step - loss: 0.0557 - accuracy: 0.9809\n",
            "\n",
            "Epoch 00087: saving model to /gdrive/My Drive/Computer_Vision/US_Handsign//checkpoints/cp.ckpt\n",
            "Epoch 88/100\n",
            "26/26 [==============================] - 49s 2s/step - loss: 0.0413 - accuracy: 0.9869\n",
            "\n",
            "Epoch 00088: saving model to /gdrive/My Drive/Computer_Vision/US_Handsign//checkpoints/cp.ckpt\n",
            "Epoch 89/100\n",
            "26/26 [==============================] - 49s 2s/step - loss: 0.0566 - accuracy: 0.9809\n",
            "\n",
            "Epoch 00089: saving model to /gdrive/My Drive/Computer_Vision/US_Handsign//checkpoints/cp.ckpt\n",
            "Epoch 90/100\n",
            "26/26 [==============================] - 49s 2s/step - loss: 0.0660 - accuracy: 0.9757\n",
            "\n",
            "Epoch 00090: saving model to /gdrive/My Drive/Computer_Vision/US_Handsign//checkpoints/cp.ckpt\n",
            "Epoch 91/100\n",
            "26/26 [==============================] - 49s 2s/step - loss: 0.0538 - accuracy: 0.9833\n",
            "\n",
            "Epoch 00091: saving model to /gdrive/My Drive/Computer_Vision/US_Handsign//checkpoints/cp.ckpt\n",
            "Epoch 92/100\n",
            "26/26 [==============================] - 49s 2s/step - loss: 0.0523 - accuracy: 0.9813\n",
            "\n",
            "Epoch 00092: saving model to /gdrive/My Drive/Computer_Vision/US_Handsign//checkpoints/cp.ckpt\n",
            "Epoch 93/100\n",
            "26/26 [==============================] - 50s 2s/step - loss: 0.0517 - accuracy: 0.9833\n",
            "\n",
            "Epoch 00093: saving model to /gdrive/My Drive/Computer_Vision/US_Handsign//checkpoints/cp.ckpt\n",
            "Epoch 94/100\n",
            "26/26 [==============================] - 50s 2s/step - loss: 0.0508 - accuracy: 0.9849\n",
            "\n",
            "Epoch 00094: saving model to /gdrive/My Drive/Computer_Vision/US_Handsign//checkpoints/cp.ckpt\n",
            "Epoch 95/100\n",
            "26/26 [==============================] - 50s 2s/step - loss: 0.0707 - accuracy: 0.9757\n",
            "\n",
            "Epoch 00095: saving model to /gdrive/My Drive/Computer_Vision/US_Handsign//checkpoints/cp.ckpt\n",
            "Epoch 96/100\n",
            "26/26 [==============================] - 50s 2s/step - loss: 0.0511 - accuracy: 0.9801\n",
            "\n",
            "Epoch 00096: saving model to /gdrive/My Drive/Computer_Vision/US_Handsign//checkpoints/cp.ckpt\n",
            "Epoch 97/100\n",
            "26/26 [==============================] - 50s 2s/step - loss: 0.0495 - accuracy: 0.9841\n",
            "\n",
            "Epoch 00097: saving model to /gdrive/My Drive/Computer_Vision/US_Handsign//checkpoints/cp.ckpt\n",
            "Epoch 98/100\n",
            "26/26 [==============================] - 50s 2s/step - loss: 0.0644 - accuracy: 0.9789\n",
            "\n",
            "Epoch 00098: saving model to /gdrive/My Drive/Computer_Vision/US_Handsign//checkpoints/cp.ckpt\n",
            "Epoch 99/100\n",
            "26/26 [==============================] - 49s 2s/step - loss: 0.0538 - accuracy: 0.9817\n",
            "\n",
            "Epoch 00099: saving model to /gdrive/My Drive/Computer_Vision/US_Handsign//checkpoints/cp.ckpt\n",
            "Epoch 100/100\n",
            "26/26 [==============================] - 49s 2s/step - loss: 0.0582 - accuracy: 0.9789\n",
            "\n",
            "Epoch 00100: saving model to /gdrive/My Drive/Computer_Vision/US_Handsign//checkpoints/cp.ckpt\n"
          ]
        }
      ]
    },
    {
      "cell_type": "code",
      "metadata": {
        "id": "r2KofEJ093wj",
        "colab": {
          "base_uri": "https://localhost:8080/",
          "height": 295
        },
        "outputId": "2fe82a06-201d-4323-b70e-7974afe15cca"
      },
      "source": [
        "plt.plot(history.history['accuracy'])\n",
        "plt.plot(history.history['loss'])\n",
        "plt.title('Model accuracy')\n",
        "plt.ylabel('Accuracy')\n",
        "plt.xlabel('Epoch')\n",
        "plt.legend(['accuracy', 'error'], loc='upper left')\n",
        "plt.show()"
      ],
      "execution_count": 14,
      "outputs": [
        {
          "output_type": "display_data",
          "data": {
            "image/png": "[encoded data removed]",
            "text/plain": [
              "<Figure size 432x288 with 1 Axes>"
            ]
          },
          "metadata": {
            "needs_background": "light"
          }
        }
      ]
    },
    {
      "cell_type": "code",
      "metadata": {
        "id": "5JW24oku-FrL"
      },
      "source": [
        "model.save(urlPath+'model_1.h5')"
      ],
      "execution_count": 15,
      "outputs": []
    },
    {
      "cell_type": "code",
      "metadata": {
        "id": "znSXoH0X98te"
      },
      "source": [
        "from tensorflow.keras.models import load_model\n",
        "\n",
        "model = load_model(urlPath+'model_1.h5')"
      ],
      "execution_count": 28,
      "outputs": []
    },
    {
      "cell_type": "code",
      "metadata": {
        "id": "a8MObXOx-MSD"
      },
      "source": [
        "from tensorflow.keras.preprocessing.image import load_img\n",
        "import numpy as np"
      ],
      "execution_count": 29,
      "outputs": []
    },
    {
      "cell_type": "code",
      "metadata": {
        "id": "gZ-7LYTH-N_N",
        "colab": {
          "base_uri": "https://localhost:8080/",
          "height": 248
        },
        "outputId": "2bba3149-3fec-4f66-d23b-657ae668e954"
      },
      "source": [
        "img = load_img(urlPath+\"/datatrain/t/hand1_t_bot_seg_4_cropped.jpeg\", target_size = im_size)\n",
        "plt.imshow(img)\n",
        "plt.axis('off')\n",
        "plt.show()"
      ],
      "execution_count": 38,
      "outputs": [
        {
          "output_type": "display_data",
          "data": {
            "image/png": "[encoded data removed]",
            "text/plain": [
              "<Figure size 432x288 with 1 Axes>"
            ]
          },
          "metadata": {
            "needs_background": "light"
          }
        }
      ]
    },
    {
      "cell_type": "code",
      "metadata": {
        "id": "7Sf82awo-Q_c",
        "colab": {
          "base_uri": "https://localhost:8080/"
        },
        "outputId": "b92acd06-32d4-4bfe-8b3b-e8038cc63a5f"
      },
      "source": [
        "img = np.array(img, dtype='float')\n",
        "img = img.reshape(1, 256, 256, 3)\n",
        "prediksi = model.predict(img)\n",
        "idx = np.argmax(prediksi)\n",
        "print(idx)"
      ],
      "execution_count": 39,
      "outputs": [
        {
          "output_type": "stream",
          "name": "stdout",
          "text": [
            "29\n"
          ]
        }
      ]
    },
    {
      "cell_type": "code",
      "metadata": {
        "id": "CQZOlgqv-Tbc",
        "colab": {
          "base_uri": "https://localhost:8080/"
        },
        "outputId": "209fb1e3-32fb-4525-899e-0bc5ea93d0c0"
      },
      "source": [
        "labels = [v for v in data_train.class_indices.keys()]\n",
        "print(\"=======>\", labels[idx])"
      ],
      "execution_count": 40,
      "outputs": [
        {
          "output_type": "stream",
          "name": "stdout",
          "text": [
            "=======> t\n"
          ]
        }
      ]
    }
  ]
}